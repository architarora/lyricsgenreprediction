{
 "cells": [
  {
   "cell_type": "markdown",
   "metadata": {},
   "source": [
    "# Data Cleaning"
   ]
  },
  {
   "cell_type": "code",
   "execution_count": 1,
   "metadata": {},
   "outputs": [],
   "source": [
    "import pandas as pd\n",
    "import numpy as np"
   ]
  },
  {
   "cell_type": "code",
   "execution_count": 3,
   "metadata": {},
   "outputs": [],
   "source": [
    "data = pd.read_csv('lyrics_dataset.csv')"
   ]
  },
  {
   "cell_type": "code",
   "execution_count": 4,
   "metadata": {},
   "outputs": [
    {
     "data": {
      "text/html": [
       "<div>\n",
       "<style scoped>\n",
       "    .dataframe tbody tr th:only-of-type {\n",
       "        vertical-align: middle;\n",
       "    }\n",
       "\n",
       "    .dataframe tbody tr th {\n",
       "        vertical-align: top;\n",
       "    }\n",
       "\n",
       "    .dataframe thead th {\n",
       "        text-align: right;\n",
       "    }\n",
       "</style>\n",
       "<table border=\"1\" class=\"dataframe\">\n",
       "  <thead>\n",
       "    <tr style=\"text-align: right;\">\n",
       "      <th></th>\n",
       "      <th>index</th>\n",
       "      <th>song</th>\n",
       "      <th>year</th>\n",
       "      <th>artist</th>\n",
       "      <th>genre</th>\n",
       "      <th>lyrics</th>\n",
       "    </tr>\n",
       "  </thead>\n",
       "  <tbody>\n",
       "    <tr>\n",
       "      <th>0</th>\n",
       "      <td>0</td>\n",
       "      <td>ego-remix</td>\n",
       "      <td>2009</td>\n",
       "      <td>beyonce-knowles</td>\n",
       "      <td>Pop</td>\n",
       "      <td>Oh baby, how you doing?\\nYou know I'm gonna cu...</td>\n",
       "    </tr>\n",
       "    <tr>\n",
       "      <th>1</th>\n",
       "      <td>1</td>\n",
       "      <td>then-tell-me</td>\n",
       "      <td>2009</td>\n",
       "      <td>beyonce-knowles</td>\n",
       "      <td>Pop</td>\n",
       "      <td>playin' everything so easy,\\nit's like you see...</td>\n",
       "    </tr>\n",
       "    <tr>\n",
       "      <th>2</th>\n",
       "      <td>2</td>\n",
       "      <td>honesty</td>\n",
       "      <td>2009</td>\n",
       "      <td>beyonce-knowles</td>\n",
       "      <td>Pop</td>\n",
       "      <td>If you search\\nFor tenderness\\nIt isn't hard t...</td>\n",
       "    </tr>\n",
       "    <tr>\n",
       "      <th>3</th>\n",
       "      <td>3</td>\n",
       "      <td>you-are-my-rock</td>\n",
       "      <td>2009</td>\n",
       "      <td>beyonce-knowles</td>\n",
       "      <td>Pop</td>\n",
       "      <td>Oh oh oh I, oh oh oh I\\n[Verse 1:]\\nIf I wrote...</td>\n",
       "    </tr>\n",
       "    <tr>\n",
       "      <th>4</th>\n",
       "      <td>4</td>\n",
       "      <td>black-culture</td>\n",
       "      <td>2009</td>\n",
       "      <td>beyonce-knowles</td>\n",
       "      <td>Pop</td>\n",
       "      <td>Party the people, the people the party it's po...</td>\n",
       "    </tr>\n",
       "  </tbody>\n",
       "</table>\n",
       "</div>"
      ],
      "text/plain": [
       "   index             song  year           artist genre  \\\n",
       "0      0        ego-remix  2009  beyonce-knowles   Pop   \n",
       "1      1     then-tell-me  2009  beyonce-knowles   Pop   \n",
       "2      2          honesty  2009  beyonce-knowles   Pop   \n",
       "3      3  you-are-my-rock  2009  beyonce-knowles   Pop   \n",
       "4      4    black-culture  2009  beyonce-knowles   Pop   \n",
       "\n",
       "                                              lyrics  \n",
       "0  Oh baby, how you doing?\\nYou know I'm gonna cu...  \n",
       "1  playin' everything so easy,\\nit's like you see...  \n",
       "2  If you search\\nFor tenderness\\nIt isn't hard t...  \n",
       "3  Oh oh oh I, oh oh oh I\\n[Verse 1:]\\nIf I wrote...  \n",
       "4  Party the people, the people the party it's po...  "
      ]
     },
     "execution_count": 4,
     "metadata": {},
     "output_type": "execute_result"
    }
   ],
   "source": [
    "data.head()"
   ]
  },
  {
   "cell_type": "code",
   "execution_count": 5,
   "metadata": {},
   "outputs": [
    {
     "data": {
      "text/html": [
       "<div>\n",
       "<style scoped>\n",
       "    .dataframe tbody tr th:only-of-type {\n",
       "        vertical-align: middle;\n",
       "    }\n",
       "\n",
       "    .dataframe tbody tr th {\n",
       "        vertical-align: top;\n",
       "    }\n",
       "\n",
       "    .dataframe thead th {\n",
       "        text-align: right;\n",
       "    }\n",
       "</style>\n",
       "<table border=\"1\" class=\"dataframe\">\n",
       "  <thead>\n",
       "    <tr style=\"text-align: right;\">\n",
       "      <th></th>\n",
       "      <th>genre</th>\n",
       "      <th>lyrics</th>\n",
       "      <th>song</th>\n",
       "      <th>artist</th>\n",
       "    </tr>\n",
       "  </thead>\n",
       "  <tbody>\n",
       "    <tr>\n",
       "      <th>0</th>\n",
       "      <td>Pop</td>\n",
       "      <td>Oh baby, how you doing?\\nYou know I'm gonna cu...</td>\n",
       "      <td>ego-remix</td>\n",
       "      <td>beyonce-knowles</td>\n",
       "    </tr>\n",
       "    <tr>\n",
       "      <th>1</th>\n",
       "      <td>Pop</td>\n",
       "      <td>playin' everything so easy,\\nit's like you see...</td>\n",
       "      <td>then-tell-me</td>\n",
       "      <td>beyonce-knowles</td>\n",
       "    </tr>\n",
       "    <tr>\n",
       "      <th>2</th>\n",
       "      <td>Pop</td>\n",
       "      <td>If you search\\nFor tenderness\\nIt isn't hard t...</td>\n",
       "      <td>honesty</td>\n",
       "      <td>beyonce-knowles</td>\n",
       "    </tr>\n",
       "    <tr>\n",
       "      <th>3</th>\n",
       "      <td>Pop</td>\n",
       "      <td>Oh oh oh I, oh oh oh I\\n[Verse 1:]\\nIf I wrote...</td>\n",
       "      <td>you-are-my-rock</td>\n",
       "      <td>beyonce-knowles</td>\n",
       "    </tr>\n",
       "    <tr>\n",
       "      <th>4</th>\n",
       "      <td>Pop</td>\n",
       "      <td>Party the people, the people the party it's po...</td>\n",
       "      <td>black-culture</td>\n",
       "      <td>beyonce-knowles</td>\n",
       "    </tr>\n",
       "  </tbody>\n",
       "</table>\n",
       "</div>"
      ],
      "text/plain": [
       "  genre                                             lyrics             song  \\\n",
       "0   Pop  Oh baby, how you doing?\\nYou know I'm gonna cu...        ego-remix   \n",
       "1   Pop  playin' everything so easy,\\nit's like you see...     then-tell-me   \n",
       "2   Pop  If you search\\nFor tenderness\\nIt isn't hard t...          honesty   \n",
       "3   Pop  Oh oh oh I, oh oh oh I\\n[Verse 1:]\\nIf I wrote...  you-are-my-rock   \n",
       "4   Pop  Party the people, the people the party it's po...    black-culture   \n",
       "\n",
       "            artist  \n",
       "0  beyonce-knowles  \n",
       "1  beyonce-knowles  \n",
       "2  beyonce-knowles  \n",
       "3  beyonce-knowles  \n",
       "4  beyonce-knowles  "
      ]
     },
     "execution_count": 5,
     "metadata": {},
     "output_type": "execute_result"
    }
   ],
   "source": [
    "genre_lyrics = data[['genre', 'lyrics', 'song', 'artist']]\n",
    "genre_lyrics = genre_lyrics.dropna()\n",
    "genre_lyrics.head()"
   ]
  },
  {
   "cell_type": "markdown",
   "metadata": {},
   "source": [
    "### Removing rows which have no genre, or have genre of other"
   ]
  },
  {
   "cell_type": "code",
   "execution_count": 6,
   "metadata": {},
   "outputs": [
    {
     "data": {
      "text/plain": [
       "Rock          109235\n",
       "Pop            40466\n",
       "Hip-Hop        24850\n",
       "Metal          23759\n",
       "Country        14387\n",
       "Jazz            7970\n",
       "Electronic      7966\n",
       "R&B             3401\n",
       "Indie           3149\n",
       "Folk            2243\n",
       "Name: genre, dtype: int64"
      ]
     },
     "execution_count": 6,
     "metadata": {},
     "output_type": "execute_result"
    }
   ],
   "source": [
    "genre_lyrics = genre_lyrics.loc[genre_lyrics['genre'] != 'Not Available']\n",
    "genre_lyrics = genre_lyrics.loc[genre_lyrics['genre'] != 'Other']\n",
    "genre_lyrics['genre'].value_counts()"
   ]
  },
  {
   "cell_type": "markdown",
   "metadata": {},
   "source": [
    "### A lot of the lyrics we were using had unnecessary characters which would restrict the effectiveness of our bag of worlds model when performing Naive Bayes or Logistic Regression. As a result, we removed characters/words such as '\\n', [Verse 1], Instrumental, Chorus, etc."
   ]
  },
  {
   "cell_type": "code",
   "execution_count": 7,
   "metadata": {},
   "outputs": [
    {
     "data": {
      "text/html": [
       "<div>\n",
       "<style scoped>\n",
       "    .dataframe tbody tr th:only-of-type {\n",
       "        vertical-align: middle;\n",
       "    }\n",
       "\n",
       "    .dataframe tbody tr th {\n",
       "        vertical-align: top;\n",
       "    }\n",
       "\n",
       "    .dataframe thead th {\n",
       "        text-align: right;\n",
       "    }\n",
       "</style>\n",
       "<table border=\"1\" class=\"dataframe\">\n",
       "  <thead>\n",
       "    <tr style=\"text-align: right;\">\n",
       "      <th></th>\n",
       "      <th>genre</th>\n",
       "      <th>lyrics</th>\n",
       "      <th>song</th>\n",
       "      <th>artist</th>\n",
       "    </tr>\n",
       "  </thead>\n",
       "  <tbody>\n",
       "    <tr>\n",
       "      <th>0</th>\n",
       "      <td>Pop</td>\n",
       "      <td>Oh baby, how you doing? You know I'm gonna cut...</td>\n",
       "      <td>ego-remix</td>\n",
       "      <td>beyonce-knowles</td>\n",
       "    </tr>\n",
       "    <tr>\n",
       "      <th>1</th>\n",
       "      <td>Pop</td>\n",
       "      <td>playin' everything so easy, it's like you seem...</td>\n",
       "      <td>then-tell-me</td>\n",
       "      <td>beyonce-knowles</td>\n",
       "    </tr>\n",
       "    <tr>\n",
       "      <th>2</th>\n",
       "      <td>Pop</td>\n",
       "      <td>If you search For tenderness It isn't hard to ...</td>\n",
       "      <td>honesty</td>\n",
       "      <td>beyonce-knowles</td>\n",
       "    </tr>\n",
       "    <tr>\n",
       "      <th>3</th>\n",
       "      <td>Pop</td>\n",
       "      <td>Oh oh oh I, oh oh oh I [Verse 1:] If I wrote a...</td>\n",
       "      <td>you-are-my-rock</td>\n",
       "      <td>beyonce-knowles</td>\n",
       "    </tr>\n",
       "    <tr>\n",
       "      <th>4</th>\n",
       "      <td>Pop</td>\n",
       "      <td>Party the people, the people the party it's po...</td>\n",
       "      <td>black-culture</td>\n",
       "      <td>beyonce-knowles</td>\n",
       "    </tr>\n",
       "  </tbody>\n",
       "</table>\n",
       "</div>"
      ],
      "text/plain": [
       "  genre                                             lyrics             song  \\\n",
       "0   Pop  Oh baby, how you doing? You know I'm gonna cut...        ego-remix   \n",
       "1   Pop  playin' everything so easy, it's like you seem...     then-tell-me   \n",
       "2   Pop  If you search For tenderness It isn't hard to ...          honesty   \n",
       "3   Pop  Oh oh oh I, oh oh oh I [Verse 1:] If I wrote a...  you-are-my-rock   \n",
       "4   Pop  Party the people, the people the party it's po...    black-culture   \n",
       "\n",
       "            artist  \n",
       "0  beyonce-knowles  \n",
       "1  beyonce-knowles  \n",
       "2  beyonce-knowles  \n",
       "3  beyonce-knowles  \n",
       "4  beyonce-knowles  "
      ]
     },
     "execution_count": 7,
     "metadata": {},
     "output_type": "execute_result"
    }
   ],
   "source": [
    "genre_lyrics['lyrics'] = genre_lyrics['lyrics'].apply(lambda x: str(x).replace('\\n', ' '))\n",
    "genre_lyrics.head()"
   ]
  },
  {
   "cell_type": "code",
   "execution_count": 8,
   "metadata": {},
   "outputs": [],
   "source": [
    "def remove_brackets(s):\n",
    "    s = s.strip()\n",
    "    startIndex = None\n",
    "    endIndex = None\n",
    "    remove = []\n",
    "    for i in range(len(s)):\n",
    "        if s[i] == '[':\n",
    "            startIndex = i\n",
    "        if s[i] == ']':\n",
    "            endIndex = i\n",
    "        if startIndex != None and endIndex != None:\n",
    "            remove.append((startIndex, endIndex+1))\n",
    "            startIndex = None\n",
    "            endIndex = None\n",
    "            \n",
    "    for r in remove:\n",
    "        start, end = r\n",
    "        substr = s[start:end]\n",
    "        s = s.replace(substr, '')\n",
    "    \n",
    "    return s"
   ]
  },
  {
   "cell_type": "code",
   "execution_count": 9,
   "metadata": {},
   "outputs": [
    {
     "data": {
      "text/html": [
       "<div>\n",
       "<style scoped>\n",
       "    .dataframe tbody tr th:only-of-type {\n",
       "        vertical-align: middle;\n",
       "    }\n",
       "\n",
       "    .dataframe tbody tr th {\n",
       "        vertical-align: top;\n",
       "    }\n",
       "\n",
       "    .dataframe thead th {\n",
       "        text-align: right;\n",
       "    }\n",
       "</style>\n",
       "<table border=\"1\" class=\"dataframe\">\n",
       "  <thead>\n",
       "    <tr style=\"text-align: right;\">\n",
       "      <th></th>\n",
       "      <th>genre</th>\n",
       "      <th>lyrics</th>\n",
       "      <th>song</th>\n",
       "      <th>artist</th>\n",
       "    </tr>\n",
       "  </thead>\n",
       "  <tbody>\n",
       "    <tr>\n",
       "      <th>0</th>\n",
       "      <td>Pop</td>\n",
       "      <td>Oh baby, how you doing? You know I'm gonna cut...</td>\n",
       "      <td>ego-remix</td>\n",
       "      <td>beyonce-knowles</td>\n",
       "    </tr>\n",
       "    <tr>\n",
       "      <th>1</th>\n",
       "      <td>Pop</td>\n",
       "      <td>playin' everything so easy, it's like you seem...</td>\n",
       "      <td>then-tell-me</td>\n",
       "      <td>beyonce-knowles</td>\n",
       "    </tr>\n",
       "    <tr>\n",
       "      <th>2</th>\n",
       "      <td>Pop</td>\n",
       "      <td>If you search For tenderness It isn't hard to ...</td>\n",
       "      <td>honesty</td>\n",
       "      <td>beyonce-knowles</td>\n",
       "    </tr>\n",
       "    <tr>\n",
       "      <th>3</th>\n",
       "      <td>Pop</td>\n",
       "      <td>Oh oh oh I, oh oh oh I  If I wrote a book abou...</td>\n",
       "      <td>you-are-my-rock</td>\n",
       "      <td>beyonce-knowles</td>\n",
       "    </tr>\n",
       "    <tr>\n",
       "      <th>4</th>\n",
       "      <td>Pop</td>\n",
       "      <td>Party the people, the people the party it's po...</td>\n",
       "      <td>black-culture</td>\n",
       "      <td>beyonce-knowles</td>\n",
       "    </tr>\n",
       "  </tbody>\n",
       "</table>\n",
       "</div>"
      ],
      "text/plain": [
       "  genre                                             lyrics             song  \\\n",
       "0   Pop  Oh baby, how you doing? You know I'm gonna cut...        ego-remix   \n",
       "1   Pop  playin' everything so easy, it's like you seem...     then-tell-me   \n",
       "2   Pop  If you search For tenderness It isn't hard to ...          honesty   \n",
       "3   Pop  Oh oh oh I, oh oh oh I  If I wrote a book abou...  you-are-my-rock   \n",
       "4   Pop  Party the people, the people the party it's po...    black-culture   \n",
       "\n",
       "            artist  \n",
       "0  beyonce-knowles  \n",
       "1  beyonce-knowles  \n",
       "2  beyonce-knowles  \n",
       "3  beyonce-knowles  \n",
       "4  beyonce-knowles  "
      ]
     },
     "execution_count": 9,
     "metadata": {},
     "output_type": "execute_result"
    }
   ],
   "source": [
    "genre_lyrics['lyrics'] = genre_lyrics['lyrics'].apply(lambda x: remove_brackets(x))\n",
    "genre_lyrics.head()"
   ]
  },
  {
   "cell_type": "code",
   "execution_count": 10,
   "metadata": {},
   "outputs": [
    {
     "data": {
      "text/html": [
       "<div>\n",
       "<style scoped>\n",
       "    .dataframe tbody tr th:only-of-type {\n",
       "        vertical-align: middle;\n",
       "    }\n",
       "\n",
       "    .dataframe tbody tr th {\n",
       "        vertical-align: top;\n",
       "    }\n",
       "\n",
       "    .dataframe thead th {\n",
       "        text-align: right;\n",
       "    }\n",
       "</style>\n",
       "<table border=\"1\" class=\"dataframe\">\n",
       "  <thead>\n",
       "    <tr style=\"text-align: right;\">\n",
       "      <th></th>\n",
       "      <th>genre</th>\n",
       "      <th>lyrics</th>\n",
       "      <th>song</th>\n",
       "      <th>artist</th>\n",
       "    </tr>\n",
       "  </thead>\n",
       "  <tbody>\n",
       "    <tr>\n",
       "      <th>0</th>\n",
       "      <td>Pop</td>\n",
       "      <td>Oh baby, how you doing? You know I'm gonna cut...</td>\n",
       "      <td>ego-remix</td>\n",
       "      <td>beyonce-knowles</td>\n",
       "    </tr>\n",
       "    <tr>\n",
       "      <th>1</th>\n",
       "      <td>Pop</td>\n",
       "      <td>playin' everything so easy, it's like you seem...</td>\n",
       "      <td>then-tell-me</td>\n",
       "      <td>beyonce-knowles</td>\n",
       "    </tr>\n",
       "    <tr>\n",
       "      <th>2</th>\n",
       "      <td>Pop</td>\n",
       "      <td>If you search For tenderness It isn't hard to ...</td>\n",
       "      <td>honesty</td>\n",
       "      <td>beyonce-knowles</td>\n",
       "    </tr>\n",
       "    <tr>\n",
       "      <th>3</th>\n",
       "      <td>Pop</td>\n",
       "      <td>Oh oh oh I, oh oh oh I  If I wrote a book abou...</td>\n",
       "      <td>you-are-my-rock</td>\n",
       "      <td>beyonce-knowles</td>\n",
       "    </tr>\n",
       "    <tr>\n",
       "      <th>4</th>\n",
       "      <td>Pop</td>\n",
       "      <td>Party the people, the people the party it's po...</td>\n",
       "      <td>black-culture</td>\n",
       "      <td>beyonce-knowles</td>\n",
       "    </tr>\n",
       "  </tbody>\n",
       "</table>\n",
       "</div>"
      ],
      "text/plain": [
       "  genre                                             lyrics             song  \\\n",
       "0   Pop  Oh baby, how you doing? You know I'm gonna cut...        ego-remix   \n",
       "1   Pop  playin' everything so easy, it's like you seem...     then-tell-me   \n",
       "2   Pop  If you search For tenderness It isn't hard to ...          honesty   \n",
       "3   Pop  Oh oh oh I, oh oh oh I  If I wrote a book abou...  you-are-my-rock   \n",
       "4   Pop  Party the people, the people the party it's po...    black-culture   \n",
       "\n",
       "            artist  \n",
       "0  beyonce-knowles  \n",
       "1  beyonce-knowles  \n",
       "2  beyonce-knowles  \n",
       "3  beyonce-knowles  \n",
       "4  beyonce-knowles  "
      ]
     },
     "execution_count": 10,
     "metadata": {},
     "output_type": "execute_result"
    }
   ],
   "source": [
    "genre_lyrics['lyrics'] = genre_lyrics['lyrics'].apply(lambda x: x.replace('INSTRUMENTAL', ''))\n",
    "genre_lyrics['lyrics'] = genre_lyrics['lyrics'].apply(lambda x: x.replace('(Chorus)', ''))\n",
    "genre_lyrics['lyrics'] = genre_lyrics['lyrics'].apply(lambda x: x.replace('Chorus:', ''))\n",
    "genre_lyrics.head()"
   ]
  },
  {
   "cell_type": "code",
   "execution_count": 11,
   "metadata": {},
   "outputs": [
    {
     "data": {
      "text/plain": [
       "Rock          109235\n",
       "Pop            40466\n",
       "Hip-Hop        24850\n",
       "Metal          23759\n",
       "Country        14387\n",
       "Jazz            7970\n",
       "Electronic      7966\n",
       "R&B             3401\n",
       "Indie           3149\n",
       "Folk            2243\n",
       "Name: genre, dtype: int64"
      ]
     },
     "execution_count": 11,
     "metadata": {},
     "output_type": "execute_result"
    }
   ],
   "source": [
    "genre_lyrics['genre'].value_counts()"
   ]
  },
  {
   "cell_type": "markdown",
   "metadata": {},
   "source": [
    "### At this point, we removed the genres which as less than 8000 training examples to ensure we have a large enough sample size of the lyrics. Then we sampled 8000 rows from the following four classes: Rock, Pop, Hip-Hop, and Metal to ensure there are no class imbalances."
   ]
  },
  {
   "cell_type": "code",
   "execution_count": 12,
   "metadata": {},
   "outputs": [],
   "source": [
    "rock = genre_lyrics.loc[genre_lyrics['genre'] == 'Rock'].sample(n=2000)\n",
    "pop = genre_lyrics.loc[genre_lyrics['genre'] == 'Pop'].sample(n=2000)\n",
    "hip_hop = genre_lyrics.loc[genre_lyrics['genre'] == 'Hip-Hop'].sample(n=2000)\n",
    "metal = genre_lyrics.loc[genre_lyrics['genre'] == 'Metal'].sample(n=2000)\n",
    "# country = genre_lyrics.loc[genre_lyrics['genre'] == 'Country'].sample(n=2243)\n",
    "# jazz = genre_lyrics.loc[genre_lyrics['genre'] == 'Jazz'].sample(n=2243)\n",
    "# electronic = genre_lyrics.loc[genre_lyrics['genre'] == 'Electronic'].sample(n=2243)\n",
    "# r_b = genre_lyrics.loc[genre_lyrics['genre'] == 'R&B'].sample(n=2243)\n",
    "# indie = genre_lyrics.loc[genre_lyrics['genre'] == 'Indie'].sample(n=2243)\n",
    "# folk = genre_lyrics.loc[genre_lyrics['genre'] == 'Folk'].sample(n=2243)"
   ]
  },
  {
   "cell_type": "code",
   "execution_count": 14,
   "metadata": {},
   "outputs": [],
   "source": [
    "final = pd.concat([rock, pop, hip_hop, metal])"
   ]
  },
  {
   "cell_type": "code",
   "execution_count": 15,
   "metadata": {},
   "outputs": [
    {
     "data": {
      "text/plain": [
       "Pop        2000\n",
       "Hip-Hop    2000\n",
       "Rock       2000\n",
       "Metal      2000\n",
       "Name: genre, dtype: int64"
      ]
     },
     "execution_count": 15,
     "metadata": {},
     "output_type": "execute_result"
    }
   ],
   "source": [
    "final['genre'].value_counts()"
   ]
  },
  {
   "cell_type": "markdown",
   "metadata": {},
   "source": [
    "### Converting to CSV which will be used for the lyrics training and testing, and also for determining additional features using the Spotify API."
   ]
  },
  {
   "cell_type": "code",
   "execution_count": 16,
   "metadata": {},
   "outputs": [],
   "source": [
    "final.to_csv(\"cleaned_nn.csv\")"
   ]
  }
 ],
 "metadata": {
  "kernelspec": {
   "display_name": "Python 3",
   "language": "python",
   "name": "python3"
  },
  "language_info": {
   "codemirror_mode": {
    "name": "ipython",
    "version": 3
   },
   "file_extension": ".py",
   "mimetype": "text/x-python",
   "name": "python",
   "nbconvert_exporter": "python",
   "pygments_lexer": "ipython3",
   "version": "3.7.2"
  }
 },
 "nbformat": 4,
 "nbformat_minor": 2
}
